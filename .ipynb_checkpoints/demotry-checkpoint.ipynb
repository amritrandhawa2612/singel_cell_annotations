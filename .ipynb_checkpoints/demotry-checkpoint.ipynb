{
 "cells": [
  {
   "cell_type": "code",
   "execution_count": 1,
   "id": "5ee63087-9bf6-4e4c-902d-ca4843a99748",
   "metadata": {},
   "outputs": [
    {
     "name": "stderr",
     "output_type": "stream",
     "text": [
      "Intel(R) Extension for Scikit-learn* enabled (https://github.com/intel/scikit-learn-intelex)\n"
     ]
    },
    {
     "name": "stdin",
     "output_type": "stream",
     "text": [
      "Enter the dataset name (tos or pmbc):  tos\n",
      "Enter the task (fine-tuning or pre-training):  fine-tuning\n"
     ]
    },
    {
     "name": "stdout",
     "output_type": "stream",
     "text": [
      "cuda:0\n"
     ]
    },
    {
     "name": "stderr",
     "output_type": "stream",
     "text": [
      "C:\\Users\\gaiacronus\\Downloads\\work\\combine\\TOSICA\\train.py:55: FutureWarning: pandas.value_counts is deprecated and will be removed in a future version. Use pd.Series(obj).value_counts() instead.\n",
      "  ct_counts = pd.value_counts(data[:,-1])\n"
     ]
    },
    {
     "name": "stdout",
     "output_type": "stream",
     "text": [
      "Mask loaded!\n",
      "Model builded!\n"
     ]
    },
    {
     "name": "stderr",
     "output_type": "stream",
     "text": [
      "[train epoch 0] loss: 2.233, acc: 0.156: 100%|█████████████████████████████████████| 3567/3567 [00:50<00:00, 70.05it/s]\n",
      "[valid epoch 0] loss: 1.338, acc: 0.733: 100%|████████████████████████████████████| 1528/1528 [00:09<00:00, 169.68it/s]\n",
      "[train epoch 1] loss: 0.878, acc: 0.668: 100%|█████████████████████████████████████| 3567/3567 [00:50<00:00, 70.40it/s]\n",
      "[valid epoch 1] loss: 0.133, acc: 1.967: 100%|████████████████████████████████████| 1528/1528 [00:09<00:00, 169.28it/s]\n",
      "[train epoch 2] loss: 0.189, acc: 0.976: 100%|█████████████████████████████████████| 3567/3567 [00:50<00:00, 71.31it/s]\n",
      "[valid epoch 2] loss: 0.081, acc: 1.979: 100%|████████████████████████████████████| 1528/1528 [00:09<00:00, 169.62it/s]\n"
     ]
    },
    {
     "name": "stdout",
     "output_type": "stream",
     "text": [
      "Training finished!\n",
      "View of AnnData object with n_obs × n_vars = 10600 × 3000\n",
      "    obs: 'Celltype'\n",
      "    var: 'Gene Symbol' View of AnnData object with n_obs × n_vars = 4218 × 3000\n",
      "    obs: 'Celltype'\n",
      "    var: 'Gene Symbol'\n"
     ]
    },
    {
     "ename": "ValueError",
     "evalue": "too many values to unpack (expected 2)",
     "output_type": "error",
     "traceback": [
      "\u001b[1;31m---------------------------------------------------------------------------\u001b[0m",
      "\u001b[1;31mValueError\u001b[0m                                Traceback (most recent call last)",
      "Cell \u001b[1;32mIn[1], line 148\u001b[0m\n\u001b[0;32m    145\u001b[0m     \u001b[38;5;28mprint\u001b[39m(\u001b[38;5;124mf\u001b[39m\u001b[38;5;124m\"\u001b[39m\u001b[38;5;124mResults saved to \u001b[39m\u001b[38;5;132;01m{\u001b[39;00moutput_file\u001b[38;5;132;01m}\u001b[39;00m\u001b[38;5;124m\"\u001b[39m)\n\u001b[0;32m    147\u001b[0m \u001b[38;5;28;01mif\u001b[39;00m \u001b[38;5;18m__name__\u001b[39m \u001b[38;5;241m==\u001b[39m \u001b[38;5;124m\"\u001b[39m\u001b[38;5;124m__main__\u001b[39m\u001b[38;5;124m\"\u001b[39m:\n\u001b[1;32m--> 148\u001b[0m     main()\n",
      "Cell \u001b[1;32mIn[1], line 128\u001b[0m, in \u001b[0;36mmain\u001b[1;34m()\u001b[0m\n\u001b[0;32m    126\u001b[0m \u001b[38;5;66;03m# Run all models and collect results\u001b[39;00m\n\u001b[0;32m    127\u001b[0m \u001b[38;5;28;01mfor\u001b[39;00m model \u001b[38;5;129;01min\u001b[39;00m models:\n\u001b[1;32m--> 128\u001b[0m     accuracy, f1_score_value \u001b[38;5;241m=\u001b[39m run_model(model, dataset)\n\u001b[0;32m    129\u001b[0m     \u001b[38;5;28;01mif\u001b[39;00m accuracy \u001b[38;5;129;01mis\u001b[39;00m \u001b[38;5;129;01mnot\u001b[39;00m \u001b[38;5;28;01mNone\u001b[39;00m \u001b[38;5;129;01mand\u001b[39;00m f1_score_value \u001b[38;5;129;01mis\u001b[39;00m \u001b[38;5;129;01mnot\u001b[39;00m \u001b[38;5;28;01mNone\u001b[39;00m:\n\u001b[0;32m    130\u001b[0m         results\u001b[38;5;241m.\u001b[39mappend({\n\u001b[0;32m    131\u001b[0m             \u001b[38;5;124m'\u001b[39m\u001b[38;5;124mdataset\u001b[39m\u001b[38;5;124m'\u001b[39m: dataset,\n\u001b[0;32m    132\u001b[0m             \u001b[38;5;124m'\u001b[39m\u001b[38;5;124mclassifier\u001b[39m\u001b[38;5;124m'\u001b[39m: model,\n\u001b[0;32m    133\u001b[0m             \u001b[38;5;124m'\u001b[39m\u001b[38;5;124maccuracy\u001b[39m\u001b[38;5;124m'\u001b[39m: accuracy,\n\u001b[0;32m    134\u001b[0m             \u001b[38;5;124m'\u001b[39m\u001b[38;5;124mf1_score\u001b[39m\u001b[38;5;124m'\u001b[39m: f1_score_value\n\u001b[0;32m    135\u001b[0m         })\n",
      "Cell \u001b[1;32mIn[1], line 102\u001b[0m, in \u001b[0;36mrun_model\u001b[1;34m(model_name, dataset)\u001b[0m\n\u001b[0;32m    100\u001b[0m     \u001b[38;5;28;01mreturn\u001b[39;00m run_tosica_model(dataset)\n\u001b[0;32m    101\u001b[0m \u001b[38;5;28;01melif\u001b[39;00m model_name \u001b[38;5;241m==\u001b[39m \u001b[38;5;124m\"\u001b[39m\u001b[38;5;124mscmmt\u001b[39m\u001b[38;5;124m\"\u001b[39m:\n\u001b[1;32m--> 102\u001b[0m     a\u001b[38;5;241m=\u001b[39mrun_scmmt_model(dataset)\n\u001b[0;32m    103\u001b[0m     \u001b[38;5;28mprint\u001b[39m(a)\n\u001b[0;32m    104\u001b[0m     \u001b[38;5;28;01mreturn\u001b[39;00m a\n",
      "Cell \u001b[1;32mIn[1], line 61\u001b[0m, in \u001b[0;36mrun_scmmt_model\u001b[1;34m(dataset)\u001b[0m\n\u001b[0;32m     58\u001b[0m model_path \u001b[38;5;241m=\u001b[39m \u001b[38;5;124mf\u001b[39m\u001b[38;5;124m\"\u001b[39m\u001b[38;5;124msaved_models/scmmt_model_\u001b[39m\u001b[38;5;132;01m{\u001b[39;00mdataset\u001b[38;5;132;01m}\u001b[39;00m\u001b[38;5;124m\"\u001b[39m\n\u001b[0;32m     59\u001b[0m \u001b[38;5;28mprint\u001b[39m(train,test)\n\u001b[1;32m---> 61\u001b[0m adata_gene_train, adata_protein_train \u001b[38;5;241m=\u001b[39m train\n\u001b[0;32m     62\u001b[0m adata_gene_test, adata_protein_test \u001b[38;5;241m=\u001b[39m test\n\u001b[0;32m     64\u001b[0m \u001b[38;5;66;03m# Initialize and train the scMMT model\u001b[39;00m\n",
      "\u001b[1;31mValueError\u001b[0m: too many values to unpack (expected 2)"
     ]
    }
   ],
   "source": [
    "import os\n",
    "import pandas as pd\n",
    "import numpy as np\n",
    "import TOSICA\n",
    "from scMMT.scMMT_API import scMMT_API\n",
    "from sklearn.metrics import f1_score\n",
    "import scanpy as sc\n",
    "\n",
    "def get_dataset(dataset_name):\n",
    "    data_path = \"data/\"\n",
    "    if dataset_name == \"tos\":\n",
    "        data_path += \"tosica/\"\n",
    "        train = sc.read(data_path + 'demo_train.h5ad')\n",
    "        train = train[:, train.var_names]\n",
    "        test = sc.read(data_path + 'demo_test.h5ad')\n",
    "        test = test[:, train.var_names]\n",
    "    elif dataset_name == \"pmbc\":\n",
    "        data_path += \"pbmc/\"\n",
    "        adata_gene = sc.read(data_path + \"pbmc_gene.h5ad\")\n",
    "        adata_protein = sc.read(data_path + \"pbmc_protein.h5ad\")\n",
    "        adata_gene = adata_gene[:1000]\n",
    "        adata_protein = adata_protein[:1000]\n",
    "        adata_gene.X = adata_gene.X.toarray()\n",
    "        adata_protein.X = adata_protein.X.toarray()\n",
    "        sc.pp.normalize_total(adata_protein)\n",
    "        sc.pp.log1p(adata_protein)\n",
    "        patients = np.unique(adata_protein.obs['donor'].values)\n",
    "        for patient in patients:\n",
    "            indices = [x == patient for x in adata_protein.obs['donor']]\n",
    "            sub_adata = adata_protein[indices]\n",
    "            sc.pp.scale(sub_adata)\n",
    "            adata_protein[indices] = sub_adata.X\n",
    "        train_bool = [x in ['P1', 'P3', 'P4', 'P7'] for x in adata_protein.obs['donor']]\n",
    "        adata_gene_train = adata_gene[train_bool].copy()\n",
    "        adata_protein_train = adata_protein[train_bool].copy()\n",
    "        adata_gene_test = adata_gene[np.invert(train_bool)].copy()\n",
    "        adata_protein_test = adata_protein[np.invert(train_bool)].copy()\n",
    "        train = [adata_gene_train, adata_protein_train]\n",
    "        test = [adata_gene_test, adata_protein_test]\n",
    "    return train, test, data_path\n",
    "\n",
    "def run_tosica_model(dataset):\n",
    "    train, test, data_path = get_dataset(dataset)\n",
    "    num_epoch = 3\n",
    "    model_path = f\"saved_models/tosica_model_{dataset}\"\n",
    "    \n",
    "    # Train the TOSICA model\n",
    "    TOSICA.train(train, gmt_path='human_gobp', label_name='Celltype', epochs=num_epoch, project=model_path)\n",
    "    \n",
    "    # Dummy values for accuracy and F1 score\n",
    "    accuracy = 0.95  # Replace with actual evaluation\n",
    "    f1_score_value = 0.93  # Replace with actual evaluation\n",
    "    return accuracy, f1_score_value\n",
    "\n",
    "def run_scmmt_model(dataset):\n",
    "    train, test, data_path = get_dataset(dataset)\n",
    "    num_epoch = 10  # Set the number of epochs for training\n",
    "    model_path = f\"saved_models/scmmt_model_{dataset}\"\n",
    "    print(train,test)\n",
    "    \n",
    "    adata_gene_train, adata_protein_train = train[:2]\n",
    "    adata_gene_test, adata_protein_test = test\n",
    "    \n",
    "    # Initialize and train the scMMT model\n",
    "    scMMT = scMMT_API(\n",
    "        gene_trainsets=[adata_gene_train],\n",
    "        protein_trainsets=[adata_protein_train],\n",
    "        gene_test=adata_gene_test,\n",
    "        train_batchkeys=['donor'],\n",
    "        test_batchkey='donor',\n",
    "        log_normalize=True,\n",
    "        type_key='celltype.l3',\n",
    "        data_dir=data_path + \"preprocess_data_l3.pkl\",\n",
    "        data_load=False,\n",
    "        dataset_batch=True,\n",
    "        log_weight=3,\n",
    "        val_split=None,\n",
    "        min_cells=0,\n",
    "        min_genes=0,\n",
    "        n_svd=300,\n",
    "        n_fa=180,\n",
    "        n_hvg=550,\n",
    "    )\n",
    "    \n",
    "    scMMT.train(n_epochs=num_epoch, ES_max=12, decay_max=6, decay_step=0.1, lr=10**(-3), label_smoothing=0.4,\n",
    "                h_size=600, drop_rate=0.15, n_layer=4, weights_dir=model_path, load=False)\n",
    "    \n",
    "    predicted_test = scMMT.predict()\n",
    "    predicted_labels = predicted_test.obs['transfered cell labels'].cpu().numpy()\n",
    "    true_labels = predicted_test.obs['celltype.l3'].cpu().numpy()\n",
    "    accuracy = (predicted_test.obs['transfered cell labels'] == predicted_test.obs['celltype.l3']).mean()\n",
    "    f1 = f1_score(predicted_test.obs['transfered cell labels'], predicted_test.obs['celltype.l3'], average=None)\n",
    "    f1_avg = np.median(f1)\n",
    "    print(accuracy, f1_avg)\n",
    "    return accuracy, f1_avg\n",
    "\n",
    "def run_model(model_name, dataset):\n",
    "    if model_name == \"tosica\":\n",
    "        \n",
    "        return run_tosica_model(dataset)\n",
    "    elif model_name == \"scmmt\":\n",
    "        a=run_scmmt_model(dataset)\n",
    "        print(a)\n",
    "        return a\n",
    "        #return run_scmmt_model(dataset,num_epoch)\n",
    "    else:\n",
    "        print(f\"Model {model_name} is not recognized.\")\n",
    "        return None, None\n",
    "\n",
    "def main():\n",
    "    #Input dataset and task\n",
    "    dataset = input(\"Enter the dataset name (tos or pmbc): \")\n",
    "    task = input(\"Enter the task (fine-tuning or pre-training): \").strip().lower()\n",
    "    \n",
    "    if task not in ['fine-tuning', 'pre-training']:\n",
    "        print(\"Invalid task. Please enter 'fine-tuning' or 'pre-training'.\")\n",
    "        return\n",
    "\n",
    "    #dataset=\"pmbc\"\n",
    "    #task=\"fine-tuning\"\n",
    "    #num_epoch=1\n",
    "    # Define the models to run\n",
    "    models = [\"tosica\",\"scmmt\",]\n",
    "    results = []\n",
    "    \n",
    "    # Run all models and collect results\n",
    "    for model in models:\n",
    "        accuracy, f1_score_value = run_model(model, dataset)\n",
    "        if accuracy is not None and f1_score_value is not None:\n",
    "            results.append({\n",
    "                'dataset': dataset,\n",
    "                'classifier': model,\n",
    "                'accuracy': accuracy,\n",
    "                'f1_score': f1_score_value\n",
    "            })\n",
    "    \n",
    "    # Create a DataFrame and save to CSV\n",
    "    results_df = pd.DataFrame(results)\n",
    "    output_file = f\"model_results_{dataset}.csv\"\n",
    "    \n",
    "    # Ensure the DataFrame has the correct column names\n",
    "    results_df.columns = ['dataset', 'classifier', 'accuracy', 'f1_score']\n",
    "    \n",
    "    results_df.to_csv(output_file, index=False)\n",
    "    print(f\"Results saved to {output_file}\")\n",
    "\n",
    "if __name__ == \"__main__\":\n",
    "    main()\n",
    "    "
   ]
  },
  {
   "cell_type": "code",
   "execution_count": null,
   "id": "f2f4a864-e37f-4589-8ce2-de740a7b3067",
   "metadata": {},
   "outputs": [],
   "source": []
  }
 ],
 "metadata": {
  "kernelspec": {
   "display_name": "Python 3 (ipykernel)",
   "language": "python",
   "name": "python3"
  },
  "language_info": {
   "codemirror_mode": {
    "name": "ipython",
    "version": 3
   },
   "file_extension": ".py",
   "mimetype": "text/x-python",
   "name": "python",
   "nbconvert_exporter": "python",
   "pygments_lexer": "ipython3",
   "version": "3.12.8"
  }
 },
 "nbformat": 4,
 "nbformat_minor": 5
}
