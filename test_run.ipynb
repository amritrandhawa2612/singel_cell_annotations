{
 "cells": [
  {
   "cell_type": "code",
   "execution_count": 1,
   "id": "a7cc8d5a-6832-467f-8476-31c60b6bb0e6",
   "metadata": {},
   "outputs": [
    {
     "name": "stderr",
     "output_type": "stream",
     "text": [
      "Intel(R) Extension for Scikit-learn* enabled (https://github.com/intel/scikit-learn-intelex)\n"
     ]
    }
   ],
   "source": [
    "import TOSICA\n",
    "import scanpy as sc\n",
    "import numpy as np\n",
    "import pandas as pd\n",
    "import pickle\n",
    "from time import time\n",
    "from scipy.stats import spearmanr, gamma, poisson\n",
    "from anndata import AnnData, read_h5ad\n",
    "from scanpy import read\n",
    "import torch\n",
    "from torch.utils.data import DataLoader, TensorDataset\n",
    "from torch import tensor\n",
    "from torch.cuda import is_available\n",
    "from scMMT.scMMT_API import scMMT_API\n",
    "from sklearn.metrics import f1_score, accuracy_score\n",
    "import datetime\n",
    "import warnings \n",
    "warnings.filterwarnings (\"ignore\")\n",
    "\n"
   ]
  },
  {
   "cell_type": "code",
   "execution_count": null,
   "id": "8964ec11-d01a-4ee4-ad0a-c30048334252",
   "metadata": {},
   "outputs": [],
   "source": [
    "models=[\"tosica\",\"scmmt\"]\n",
    "datasets=[\"tos\",\"pmbc\"]"
   ]
  },
  {
   "cell_type": "code",
   "execution_count": null,
   "id": "f473038e-9f56-4082-85d0-a05dcae2aefd",
   "metadata": {},
   "outputs": [],
   "source": [
    "seed = 5\n",
    "torch.manual_seed(seed)\n",
    "torch.cuda.manual_seed(seed) \n",
    "torch.cuda.manual_seed_all(seed)  # if you are using multi-GPU\n",
    "np.random.seed(seed)"
   ]
  },
  {
   "cell_type": "code",
   "execution_count": 2,
   "id": "a01e5e5a-5241-4162-b28c-c99c890b7fa5",
   "metadata": {},
   "outputs": [],
   "source": [
    "def get_dataset(dataset_name):\n",
    "    data_path=\"data/\"\n",
    "    if dataset_name==\"tos\":\n",
    "        data_path=data_path+\"tosica/\"\n",
    "        train = sc.read(data_path+'demo_train.h5ad')\n",
    "        train = train[:,train.var_names]\n",
    "        test = sc.read(data_path+'demo_test.h5ad')\n",
    "        test = test[:,train.var_names]\n",
    "    elif dataset_name==\"pmbc\":\n",
    "        data_path=data_path+\"pbmc/\"\n",
    "        adata_gene = sc.read(data_path+\"pbmc_gene.h5ad\")\n",
    "        adata_protein = sc.read(data_path+\"pbmc_protein.h5ad\")\n",
    "        adata_gene=adata_gene[:1000]\n",
    "        adata_protein=adata_protein[:1000]\n",
    "        adata_gene.X = adata_gene.X.toarray()\n",
    "        adata_protein.X = adata_protein.X.toarray()\n",
    "        sc.pp.normalize_total(adata_protein)\n",
    "        sc.pp.log1p(adata_protein)\n",
    "        patients = np.unique(adata_protein.obs['donor'].values)\n",
    "        for patient in patients:\n",
    "            indices = [x == patient for x in adata_protein.obs['donor']]\n",
    "            sub_adata = adata_protein[indices]\n",
    "            sc.pp.scale(sub_adata)\n",
    "            adata_protein[indices] = sub_adata.X\n",
    "        train_bool = [x in ['P1', 'P3', 'P4', 'P7'] for x in adata_protein.obs['donor']]\n",
    "        adata_gene_train = adata_gene[train_bool].copy()\n",
    "        adata_protein_train = adata_protein[train_bool].copy()\n",
    "        adata_gene_test = adata_gene[np.invert(train_bool)].copy()\n",
    "        adata_protein_test = adata_protein[np.invert(train_bool)].copy()\n",
    "        train=[adata_gene_train,adata_protein_train]\n",
    "        test=[adata_gene_test,adata_protein_test]\n",
    "    return train, test, data_path"
   ]
  },
  {
   "cell_type": "code",
   "execution_count": null,
   "id": "981d40b3-32b1-4fee-9f40-515b7424480b",
   "metadata": {},
   "outputs": [],
   "source": [
    "def train_model(model_name, train, test, data_path, num_epoch):\n",
    "    now = datetime.datetime.now()\n",
    "    saved_models_path=\"saved_models/\"\n",
    "    if model_name==\"tosica\":\n",
    "        model_path=saved_models_path+\"toscia_\"+now\n",
    "        TOSICA.train(train, gmt_path='human_gobp', label_name='Celltype',epochs=num_epoch,project=model_path)\n",
    "        model_weight_path = model_path+'/model-0.pth'\n",
    "        new_adata = TOSICA.pre(query_adata, model_weight_path = model_weight_path,project=model_path)\n",
    "        \n",
    "    elif model_name==\"scmmt\":\n",
    "        model_path=saved_models_path+\"scmmt_\"+now\n",
    "        adata_gene_train,adata_protein_train=train\n",
    "        adata_gene_test,adata_protein_test=test\n",
    "        scMMT = scMMT_API(    gene_trainsets = [adata_gene_train], protein_trainsets = [adata_protein_train], gene_test = adata_gene_test, \n",
    "                      train_batchkeys = ['donor'], test_batchkey = 'donor',\n",
    "                      log_normalize = True,            # Is scRNA seq standardized for log\n",
    "                      type_key = 'celltype.l3',        # Keywords representing cell types (in protein dataset)\n",
    "                      data_dir=data_path+\"preprocess_data_l3.pkl\",  # Save path for processed data\n",
    "                      data_load=False,                # Do you want to import existing processed data\n",
    "                      dataset_batch = True,           # Is there a batch effect in the training set and testing machine\n",
    "                      log_weight=3,                   # Log weights for different cell types\n",
    "                      val_split = None,               # Do you need to divide the validation set according to the distribution of the test set\n",
    "                      min_cells = 0,                  # Minimum cell count filtering\n",
    "                      min_genes = 0,                  # Minimum number of genes filtering\n",
    "                      n_svd = 300,                    # Dimension obtained using Tsvd dimensionality reduction\n",
    "                      n_fa=180,                       # Dimension obtained by using FA dimensionality reduction\n",
    "                      n_hvg=550,                      # Number of high variants obtained through screening\n",
    "                     )\n",
    "        scMMT.train(n_epochs = num_epoch, ES_max = 12, decay_max = 6, decay_step = 0.1, lr = 10**(-3), label_smoothing=0.4, \n",
    "            h_size=600, drop_rate=0.15, n_layer=4,\n",
    "            weights_dir = model_path , load = False)\n",
    "        predicted_test = scMMT.predict()\n",
    "        acc = (predicted_test.obs['transfered cell labels'] == predicted_test.obs['celltype.l3']).mean()\n",
    "        f1 = f1_score(predicted_test.obs['transfered cell labels'], predicted_test.obs['celltype.l3'], average=None)\n",
    "        f1_avg = np.median(f1)\n",
    "    return acc,f1_avg"
   ]
  }
 ],
 "metadata": {
  "kernelspec": {
   "display_name": "Python 3 (ipykernel)",
   "language": "python",
   "name": "python3"
  },
  "language_info": {
   "codemirror_mode": {
    "name": "ipython",
    "version": 3
   },
   "file_extension": ".py",
   "mimetype": "text/x-python",
   "name": "python",
   "nbconvert_exporter": "python",
   "pygments_lexer": "ipython3",
   "version": "3.12.8"
  }
 },
 "nbformat": 4,
 "nbformat_minor": 5
}
