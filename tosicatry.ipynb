{
 "cells": [
  {
   "cell_type": "code",
   "execution_count": 13,
   "id": "9e4c6020-6396-4faa-aa4d-ec979a7e4052",
   "metadata": {},
   "outputs": [
    {
     "name": "stdout",
     "output_type": "stream",
     "text": [
      "Collecting sympy==1.12\n",
      "  Downloading sympy-1.12-py3-none-any.whl.metadata (12 kB)\n",
      "Requirement already satisfied: mpmath>=0.19 in c:\\users\\gaiacronus\\.conda\\envs\\demo3\\lib\\site-packages (from sympy==1.12) (1.3.0)\n",
      "Downloading sympy-1.12-py3-none-any.whl (5.7 MB)\n",
      "   ---------------------------------------- 0.0/5.7 MB ? eta -:--:--\n",
      "   -------------- ------------------------- 2.1/5.7 MB 16.8 MB/s eta 0:00:01\n",
      "   -------------------------------------- - 5.5/5.7 MB 14.0 MB/s eta 0:00:01\n",
      "   ---------------------------------------- 5.7/5.7 MB 14.0 MB/s eta 0:00:00\n",
      "Installing collected packages: sympy\n",
      "  Attempting uninstall: sympy\n",
      "    Found existing installation: sympy 1.13.1\n",
      "    Uninstalling sympy-1.13.1:\n",
      "      Successfully uninstalled sympy-1.13.1\n",
      "Successfully installed sympy-1.12\n"
     ]
    },
    {
     "name": "stderr",
     "output_type": "stream",
     "text": [
      "ERROR: pip's dependency resolver does not currently take into account all the packages that are installed. This behaviour is the source of the following dependency conflicts.\n",
      "torch 2.7.0.dev20250113+cu126 requires sympy==1.13.1; python_version >= \"3.9\", but you have sympy 1.12 which is incompatible.\n"
     ]
    }
   ],
   "source": [
    "!pip install sympy==1.12\n"
   ]
  },
  {
   "cell_type": "code",
   "execution_count": 14,
   "id": "66469bc6-218c-4621-a843-3f999058cdd2",
   "metadata": {},
   "outputs": [
    {
     "name": "stderr",
     "output_type": "stream",
     "text": [
      "C:\\Users\\gaiacronus\\.conda\\envs\\demo3\\Lib\\site-packages\\scanpy\\preprocessing\\_normalization.py:207: UserWarning: Received a view of an AnnData. Making a copy.\n",
      "  view_to_actual(adata)\n",
      "C:\\Users\\gaiacronus\\.conda\\envs\\demo3\\Lib\\site-packages\\scanpy\\preprocessing\\_normalization.py:207: UserWarning: Received a view of an AnnData. Making a copy.\n",
      "  view_to_actual(adata)\n"
     ]
    },
    {
     "name": "stdout",
     "output_type": "stream",
     "text": [
      "cuda:0\n"
     ]
    },
    {
     "name": "stderr",
     "output_type": "stream",
     "text": [
      "C:\\Users\\gaiacronus\\Downloads\\work\\combine\\TOSICA\\train.py:55: FutureWarning: pandas.value_counts is deprecated and will be removed in a future version. Use pd.Series(obj).value_counts() instead.\n",
      "  ct_counts = pd.value_counts(data[:,-1])\n"
     ]
    },
    {
     "name": "stdout",
     "output_type": "stream",
     "text": [
      "Mask loaded!\n",
      "Model builded!\n"
     ]
    },
    {
     "ename": "AttributeError",
     "evalue": "module 'sympy' has no attribute 'core'",
     "output_type": "error",
     "traceback": [
      "\u001b[1;31m---------------------------------------------------------------------------\u001b[0m",
      "\u001b[1;31mAttributeError\u001b[0m                            Traceback (most recent call last)",
      "Cell \u001b[1;32mIn[14], line 36\u001b[0m\n\u001b[0;32m     33\u001b[0m project_name \u001b[38;5;241m=\u001b[39m \u001b[38;5;124m\"\u001b[39m\u001b[38;5;124mtostry\u001b[39m\u001b[38;5;124m\"\u001b[39m    \u001b[38;5;66;03m# Name of the project directory\u001b[39;00m\n\u001b[0;32m     35\u001b[0m \u001b[38;5;66;03m# Train the model\u001b[39;00m\n\u001b[1;32m---> 36\u001b[0m TOSICA\u001b[38;5;241m.\u001b[39mtrain(\n\u001b[0;32m     37\u001b[0m     ref_adata,\n\u001b[0;32m     38\u001b[0m     gmt_path\u001b[38;5;241m=\u001b[39mgmt_path,\n\u001b[0;32m     39\u001b[0m     project\u001b[38;5;241m=\u001b[39mproject_name,\n\u001b[0;32m     40\u001b[0m     epochs\u001b[38;5;241m=\u001b[39m\u001b[38;5;241m3\u001b[39m,\n\u001b[0;32m     41\u001b[0m     label_name\u001b[38;5;241m=\u001b[39mlabel_key\n\u001b[0;32m     42\u001b[0m )\n\u001b[0;32m     44\u001b[0m \u001b[38;5;66;03m# Step 4: Predict cell types in the test dataset\u001b[39;00m\n\u001b[0;32m     45\u001b[0m \u001b[38;5;66;03m# Path to the trained model weights (saved in the project directory during training)\u001b[39;00m\n\u001b[0;32m     46\u001b[0m model_weight_path \u001b[38;5;241m=\u001b[39m \u001b[38;5;124mf\u001b[39m\u001b[38;5;124m\"\u001b[39m\u001b[38;5;132;01m{\u001b[39;00mproject_name\u001b[38;5;132;01m}\u001b[39;00m\u001b[38;5;124m/model_weight.h5\u001b[39m\u001b[38;5;124m\"\u001b[39m\n",
      "File \u001b[1;32m~\\Downloads\\work\\combine\\TOSICA\\__init__.py:68\u001b[0m, in \u001b[0;36mtrain\u001b[1;34m(adata, gmt_path, project, pre_weights, label_name, max_g, max_gs, mask_ratio, n_unannotated, batch_size, embed_dim, depth, num_heads, lr, epochs, lrf)\u001b[0m\n\u001b[0;32m     20\u001b[0m \u001b[38;5;28;01mdef\u001b[39;00m \u001b[38;5;21mtrain\u001b[39m(adata, gmt_path, project\u001b[38;5;241m=\u001b[39m\u001b[38;5;28;01mNone\u001b[39;00m,pre_weights\u001b[38;5;241m=\u001b[39m\u001b[38;5;124m'\u001b[39m\u001b[38;5;124m'\u001b[39m, label_name\u001b[38;5;241m=\u001b[39m\u001b[38;5;124m'\u001b[39m\u001b[38;5;124mCelltype\u001b[39m\u001b[38;5;124m'\u001b[39m,max_g\u001b[38;5;241m=\u001b[39m\u001b[38;5;241m300\u001b[39m,max_gs\u001b[38;5;241m=\u001b[39m\u001b[38;5;241m300\u001b[39m,mask_ratio \u001b[38;5;241m=\u001b[39m\u001b[38;5;241m0.015\u001b[39m, n_unannotated \u001b[38;5;241m=\u001b[39m \u001b[38;5;241m1\u001b[39m,batch_size\u001b[38;5;241m=\u001b[39m\u001b[38;5;241m8\u001b[39m, embed_dim\u001b[38;5;241m=\u001b[39m\u001b[38;5;241m48\u001b[39m,depth\u001b[38;5;241m=\u001b[39m\u001b[38;5;241m2\u001b[39m,num_heads\u001b[38;5;241m=\u001b[39m\u001b[38;5;241m4\u001b[39m,lr\u001b[38;5;241m=\u001b[39m\u001b[38;5;241m0.001\u001b[39m, epochs\u001b[38;5;241m=\u001b[39m \u001b[38;5;241m10\u001b[39m, lrf\u001b[38;5;241m=\u001b[39m\u001b[38;5;241m0.01\u001b[39m):\n\u001b[0;32m     21\u001b[0m \u001b[38;5;250m    \u001b[39m\u001b[38;5;124mr\u001b[39m\u001b[38;5;124;03m\"\"\"\u001b[39;00m\n\u001b[0;32m     22\u001b[0m \u001b[38;5;124;03m    Fit the model with reference data\u001b[39;00m\n\u001b[0;32m     23\u001b[0m \u001b[38;5;124;03m    Parameters\u001b[39;00m\n\u001b[1;32m   (...)\u001b[0m\n\u001b[0;32m     66\u001b[0m \u001b[38;5;124;03m        Weights\u001b[39;00m\n\u001b[0;32m     67\u001b[0m \u001b[38;5;124;03m    \"\"\"\u001b[39;00m\n\u001b[1;32m---> 68\u001b[0m     fit_model(adata, gmt_path, project\u001b[38;5;241m=\u001b[39mproject,pre_weights\u001b[38;5;241m=\u001b[39mpre_weights, label_name\u001b[38;5;241m=\u001b[39mlabel_name,\n\u001b[0;32m     69\u001b[0m               max_g\u001b[38;5;241m=\u001b[39mmax_g,max_gs\u001b[38;5;241m=\u001b[39mmax_gs,mask_ratio\u001b[38;5;241m=\u001b[39mmask_ratio, n_unannotated \u001b[38;5;241m=\u001b[39m n_unannotated,batch_size\u001b[38;5;241m=\u001b[39mbatch_size, \n\u001b[0;32m     70\u001b[0m               embed_dim\u001b[38;5;241m=\u001b[39membed_dim,depth\u001b[38;5;241m=\u001b[39mdepth,num_heads\u001b[38;5;241m=\u001b[39mnum_heads,lr\u001b[38;5;241m=\u001b[39mlr, epochs\u001b[38;5;241m=\u001b[39m epochs, lrf\u001b[38;5;241m=\u001b[39mlrf)\n",
      "File \u001b[1;32m~\\Downloads\\work\\combine\\TOSICA\\train.py:325\u001b[0m, in \u001b[0;36mfit_model\u001b[1;34m(adata, gmt_path, project, pre_weights, label_name, max_g, max_gs, mask_ratio, n_unannotated, batch_size, embed_dim, depth, num_heads, lr, epochs, lrf)\u001b[0m\n\u001b[0;32m    323\u001b[0m \u001b[38;5;28mprint\u001b[39m(\u001b[38;5;124m'\u001b[39m\u001b[38;5;124mModel builded!\u001b[39m\u001b[38;5;124m'\u001b[39m)\n\u001b[0;32m    324\u001b[0m pg \u001b[38;5;241m=\u001b[39m [p \u001b[38;5;28;01mfor\u001b[39;00m p \u001b[38;5;129;01min\u001b[39;00m model\u001b[38;5;241m.\u001b[39mparameters() \u001b[38;5;28;01mif\u001b[39;00m p\u001b[38;5;241m.\u001b[39mrequires_grad]  \n\u001b[1;32m--> 325\u001b[0m optimizer \u001b[38;5;241m=\u001b[39m optim\u001b[38;5;241m.\u001b[39mSGD(pg, lr\u001b[38;5;241m=\u001b[39mlr, momentum\u001b[38;5;241m=\u001b[39m\u001b[38;5;241m0.9\u001b[39m, weight_decay\u001b[38;5;241m=\u001b[39m\u001b[38;5;241m5E-5\u001b[39m) \n\u001b[0;32m    326\u001b[0m lf \u001b[38;5;241m=\u001b[39m \u001b[38;5;28;01mlambda\u001b[39;00m x: ((\u001b[38;5;241m1\u001b[39m \u001b[38;5;241m+\u001b[39m math\u001b[38;5;241m.\u001b[39mcos(x \u001b[38;5;241m*\u001b[39m math\u001b[38;5;241m.\u001b[39mpi \u001b[38;5;241m/\u001b[39m epochs)) \u001b[38;5;241m/\u001b[39m \u001b[38;5;241m2\u001b[39m) \u001b[38;5;241m*\u001b[39m (\u001b[38;5;241m1\u001b[39m \u001b[38;5;241m-\u001b[39m lrf) \u001b[38;5;241m+\u001b[39m lrf  \n\u001b[0;32m    327\u001b[0m scheduler \u001b[38;5;241m=\u001b[39m lr_scheduler\u001b[38;5;241m.\u001b[39mLambdaLR(optimizer, lr_lambda\u001b[38;5;241m=\u001b[39mlf)\n",
      "File \u001b[1;32m~\\.conda\\envs\\demo3\\Lib\\site-packages\\torch\\optim\\sgd.py:63\u001b[0m, in \u001b[0;36mSGD.__init__\u001b[1;34m(self, params, lr, momentum, dampening, weight_decay, nesterov, maximize, foreach, differentiable, fused)\u001b[0m\n\u001b[0;32m     61\u001b[0m \u001b[38;5;28;01mif\u001b[39;00m nesterov \u001b[38;5;129;01mand\u001b[39;00m (momentum \u001b[38;5;241m<\u001b[39m\u001b[38;5;241m=\u001b[39m \u001b[38;5;241m0\u001b[39m \u001b[38;5;129;01mor\u001b[39;00m dampening \u001b[38;5;241m!=\u001b[39m \u001b[38;5;241m0\u001b[39m):\n\u001b[0;32m     62\u001b[0m     \u001b[38;5;28;01mraise\u001b[39;00m \u001b[38;5;167;01mValueError\u001b[39;00m(\u001b[38;5;124m\"\u001b[39m\u001b[38;5;124mNesterov momentum requires a momentum and zero dampening\u001b[39m\u001b[38;5;124m\"\u001b[39m)\n\u001b[1;32m---> 63\u001b[0m \u001b[38;5;28msuper\u001b[39m()\u001b[38;5;241m.\u001b[39m\u001b[38;5;21m__init__\u001b[39m(params, defaults)\n\u001b[0;32m     65\u001b[0m \u001b[38;5;28;01mif\u001b[39;00m fused:\n\u001b[0;32m     66\u001b[0m     \u001b[38;5;28mself\u001b[39m\u001b[38;5;241m.\u001b[39m_step_supports_amp_scaling \u001b[38;5;241m=\u001b[39m \u001b[38;5;28;01mTrue\u001b[39;00m\n",
      "File \u001b[1;32m~\\.conda\\envs\\demo3\\Lib\\site-packages\\torch\\optim\\optimizer.py:384\u001b[0m, in \u001b[0;36mOptimizer.__init__\u001b[1;34m(self, params, defaults)\u001b[0m\n\u001b[0;32m    381\u001b[0m     param_groups \u001b[38;5;241m=\u001b[39m [{\u001b[38;5;124m\"\u001b[39m\u001b[38;5;124mparams\u001b[39m\u001b[38;5;124m\"\u001b[39m: param_groups}]\n\u001b[0;32m    383\u001b[0m \u001b[38;5;28;01mfor\u001b[39;00m param_group \u001b[38;5;129;01min\u001b[39;00m param_groups:\n\u001b[1;32m--> 384\u001b[0m     \u001b[38;5;28mself\u001b[39m\u001b[38;5;241m.\u001b[39madd_param_group(cast(\u001b[38;5;28mdict\u001b[39m, param_group))\n\u001b[0;32m    386\u001b[0m \u001b[38;5;66;03m# Allows _cuda_graph_capture_health_check to rig a poor man's TORCH_WARN_ONCE in python,\u001b[39;00m\n\u001b[0;32m    387\u001b[0m \u001b[38;5;66;03m# which I don't think exists\u001b[39;00m\n\u001b[0;32m    388\u001b[0m \u001b[38;5;66;03m# https://github.com/pytorch/pytorch/issues/72948\u001b[39;00m\n\u001b[0;32m    389\u001b[0m \u001b[38;5;28mself\u001b[39m\u001b[38;5;241m.\u001b[39m_warned_capturable_if_run_uncaptured \u001b[38;5;241m=\u001b[39m \u001b[38;5;28;01mTrue\u001b[39;00m\n",
      "File \u001b[1;32m~\\.conda\\envs\\demo3\\Lib\\site-packages\\torch\\_compile.py:46\u001b[0m, in \u001b[0;36m_disable_dynamo.<locals>.inner\u001b[1;34m(*args, **kwargs)\u001b[0m\n\u001b[0;32m     44\u001b[0m disable_fn \u001b[38;5;241m=\u001b[39m \u001b[38;5;28mgetattr\u001b[39m(fn, \u001b[38;5;124m\"\u001b[39m\u001b[38;5;124m__dynamo_disable\u001b[39m\u001b[38;5;124m\"\u001b[39m, \u001b[38;5;28;01mNone\u001b[39;00m)\n\u001b[0;32m     45\u001b[0m \u001b[38;5;28;01mif\u001b[39;00m disable_fn \u001b[38;5;129;01mis\u001b[39;00m \u001b[38;5;28;01mNone\u001b[39;00m:\n\u001b[1;32m---> 46\u001b[0m     \u001b[38;5;28;01mimport\u001b[39;00m \u001b[38;5;21;01mtorch\u001b[39;00m\u001b[38;5;21;01m.\u001b[39;00m\u001b[38;5;21;01m_dynamo\u001b[39;00m\n\u001b[0;32m     48\u001b[0m     disable_fn \u001b[38;5;241m=\u001b[39m torch\u001b[38;5;241m.\u001b[39m_dynamo\u001b[38;5;241m.\u001b[39mdisable(fn, recursive)\n\u001b[0;32m     49\u001b[0m     fn\u001b[38;5;241m.\u001b[39m__dynamo_disable \u001b[38;5;241m=\u001b[39m disable_fn  \u001b[38;5;66;03m# type: ignore[attr-defined]\u001b[39;00m\n",
      "File \u001b[1;32m~\\.conda\\envs\\demo3\\Lib\\site-packages\\torch\\_dynamo\\__init__.py:3\u001b[0m\n\u001b[0;32m      1\u001b[0m \u001b[38;5;28;01mimport\u001b[39;00m \u001b[38;5;21;01mtorch\u001b[39;00m\n\u001b[1;32m----> 3\u001b[0m \u001b[38;5;28;01mfrom\u001b[39;00m \u001b[38;5;21;01m.\u001b[39;00m \u001b[38;5;28;01mimport\u001b[39;00m convert_frame, eval_frame, resume_execution\n\u001b[0;32m      4\u001b[0m \u001b[38;5;28;01mfrom\u001b[39;00m \u001b[38;5;21;01m.\u001b[39;00m\u001b[38;5;21;01mbackends\u001b[39;00m\u001b[38;5;21;01m.\u001b[39;00m\u001b[38;5;21;01mregistry\u001b[39;00m \u001b[38;5;28;01mimport\u001b[39;00m list_backends, lookup_backend, register_backend\n\u001b[0;32m      5\u001b[0m \u001b[38;5;28;01mfrom\u001b[39;00m \u001b[38;5;21;01m.\u001b[39;00m\u001b[38;5;21;01mcallback\u001b[39;00m \u001b[38;5;28;01mimport\u001b[39;00m callback_handler, on_compile_end, on_compile_start\n",
      "File \u001b[1;32m~\\.conda\\envs\\demo3\\Lib\\site-packages\\torch\\_dynamo\\convert_frame.py:33\u001b[0m\n\u001b[0;32m     31\u001b[0m \u001b[38;5;28;01mfrom\u001b[39;00m \u001b[38;5;21;01mtorch\u001b[39;00m\u001b[38;5;21;01m.\u001b[39;00m\u001b[38;5;21;01m_C\u001b[39;00m\u001b[38;5;21;01m.\u001b[39;00m\u001b[38;5;21;01m_dynamo\u001b[39;00m\u001b[38;5;21;01m.\u001b[39;00m\u001b[38;5;21;01mguards\u001b[39;00m \u001b[38;5;28;01mimport\u001b[39;00m GlobalStateGuard\n\u001b[0;32m     32\u001b[0m \u001b[38;5;28;01mfrom\u001b[39;00m \u001b[38;5;21;01mtorch\u001b[39;00m\u001b[38;5;21;01m.\u001b[39;00m\u001b[38;5;21;01m_dynamo\u001b[39;00m\u001b[38;5;21;01m.\u001b[39;00m\u001b[38;5;21;01mdistributed\u001b[39;00m \u001b[38;5;28;01mimport\u001b[39;00m get_compile_pg\n\u001b[1;32m---> 33\u001b[0m \u001b[38;5;28;01mfrom\u001b[39;00m \u001b[38;5;21;01mtorch\u001b[39;00m\u001b[38;5;21;01m.\u001b[39;00m\u001b[38;5;21;01m_dynamo\u001b[39;00m\u001b[38;5;21;01m.\u001b[39;00m\u001b[38;5;21;01msymbolic_convert\u001b[39;00m \u001b[38;5;28;01mimport\u001b[39;00m TensorifyState\n\u001b[0;32m     34\u001b[0m \u001b[38;5;28;01mfrom\u001b[39;00m \u001b[38;5;21;01mtorch\u001b[39;00m\u001b[38;5;21;01m.\u001b[39;00m\u001b[38;5;21;01m_guards\u001b[39;00m \u001b[38;5;28;01mimport\u001b[39;00m compile_context, CompileContext, CompileId, tracing\n\u001b[0;32m     35\u001b[0m \u001b[38;5;28;01mfrom\u001b[39;00m \u001b[38;5;21;01mtorch\u001b[39;00m\u001b[38;5;21;01m.\u001b[39;00m\u001b[38;5;21;01m_logging\u001b[39;00m \u001b[38;5;28;01mimport\u001b[39;00m structured\n",
      "File \u001b[1;32m~\\.conda\\envs\\demo3\\Lib\\site-packages\\torch\\_dynamo\\symbolic_convert.py:27\u001b[0m\n\u001b[0;32m     25\u001b[0m \u001b[38;5;28;01mimport\u001b[39;00m \u001b[38;5;21;01mtorch\u001b[39;00m\n\u001b[0;32m     26\u001b[0m \u001b[38;5;28;01mimport\u001b[39;00m \u001b[38;5;21;01mtorch\u001b[39;00m\u001b[38;5;21;01m.\u001b[39;00m\u001b[38;5;21;01m_logging\u001b[39;00m\n\u001b[1;32m---> 27\u001b[0m \u001b[38;5;28;01mfrom\u001b[39;00m \u001b[38;5;21;01mtorch\u001b[39;00m\u001b[38;5;21;01m.\u001b[39;00m\u001b[38;5;21;01m_dynamo\u001b[39;00m\u001b[38;5;21;01m.\u001b[39;00m\u001b[38;5;21;01mexc\u001b[39;00m \u001b[38;5;28;01mimport\u001b[39;00m TensorifyScalarRestartAnalysis\n\u001b[0;32m     28\u001b[0m \u001b[38;5;28;01mfrom\u001b[39;00m \u001b[38;5;21;01mtorch\u001b[39;00m\u001b[38;5;21;01m.\u001b[39;00m\u001b[38;5;21;01m_guards\u001b[39;00m \u001b[38;5;28;01mimport\u001b[39;00m tracing, TracingContext\n\u001b[0;32m     29\u001b[0m \u001b[38;5;28;01mfrom\u001b[39;00m \u001b[38;5;21;01mtorch\u001b[39;00m\u001b[38;5;21;01m.\u001b[39;00m\u001b[38;5;21;01mutils\u001b[39;00m\u001b[38;5;21;01m.\u001b[39;00m\u001b[38;5;21;01m_functools\u001b[39;00m \u001b[38;5;28;01mimport\u001b[39;00m cache_method\n",
      "File \u001b[1;32m~\\.conda\\envs\\demo3\\Lib\\site-packages\\torch\\_dynamo\\exc.py:14\u001b[0m\n\u001b[0;32m     11\u001b[0m \u001b[38;5;28;01mimport\u001b[39;00m \u001b[38;5;21;01mtorch\u001b[39;00m\u001b[38;5;21;01m.\u001b[39;00m\u001b[38;5;21;01m_guards\u001b[39;00m\n\u001b[0;32m     13\u001b[0m \u001b[38;5;28;01mfrom\u001b[39;00m \u001b[38;5;21;01m.\u001b[39;00m \u001b[38;5;28;01mimport\u001b[39;00m config\n\u001b[1;32m---> 14\u001b[0m \u001b[38;5;28;01mfrom\u001b[39;00m \u001b[38;5;21;01m.\u001b[39;00m\u001b[38;5;21;01mutils\u001b[39;00m \u001b[38;5;28;01mimport\u001b[39;00m counters\n\u001b[0;32m     17\u001b[0m \u001b[38;5;28;01mif\u001b[39;00m TYPE_CHECKING:\n\u001b[0;32m     18\u001b[0m     \u001b[38;5;28;01mimport\u001b[39;00m \u001b[38;5;21;01mtypes\u001b[39;00m\n",
      "File \u001b[1;32m~\\.conda\\envs\\demo3\\Lib\\site-packages\\torch\\_dynamo\\utils.py:66\u001b[0m\n\u001b[0;32m     64\u001b[0m \u001b[38;5;28;01mimport\u001b[39;00m \u001b[38;5;21;01mtorch\u001b[39;00m\n\u001b[0;32m     65\u001b[0m \u001b[38;5;28;01mimport\u001b[39;00m \u001b[38;5;21;01mtorch\u001b[39;00m\u001b[38;5;21;01m.\u001b[39;00m\u001b[38;5;21;01m_functorch\u001b[39;00m\u001b[38;5;21;01m.\u001b[39;00m\u001b[38;5;21;01mconfig\u001b[39;00m\n\u001b[1;32m---> 66\u001b[0m \u001b[38;5;28;01mimport\u001b[39;00m \u001b[38;5;21;01mtorch\u001b[39;00m\u001b[38;5;21;01m.\u001b[39;00m\u001b[38;5;21;01mfx\u001b[39;00m\u001b[38;5;21;01m.\u001b[39;00m\u001b[38;5;21;01mexperimental\u001b[39;00m\u001b[38;5;21;01m.\u001b[39;00m\u001b[38;5;21;01msymbolic_shapes\u001b[39;00m\n\u001b[0;32m     67\u001b[0m \u001b[38;5;28;01mimport\u001b[39;00m \u001b[38;5;21;01mtorch\u001b[39;00m\u001b[38;5;21;01m.\u001b[39;00m\u001b[38;5;21;01mutils\u001b[39;00m\u001b[38;5;21;01m.\u001b[39;00m\u001b[38;5;21;01m_pytree\u001b[39;00m \u001b[38;5;28;01mas\u001b[39;00m \u001b[38;5;21;01mpytree\u001b[39;00m\n\u001b[0;32m     68\u001b[0m \u001b[38;5;28;01mfrom\u001b[39;00m \u001b[38;5;21;01mtorch\u001b[39;00m \u001b[38;5;28;01mimport\u001b[39;00m fx\n",
      "File \u001b[1;32m~\\.conda\\envs\\demo3\\Lib\\site-packages\\torch\\fx\\experimental\\symbolic_shapes.py:74\u001b[0m\n\u001b[0;32m     72\u001b[0m \u001b[38;5;28;01mfrom\u001b[39;00m \u001b[38;5;21;01mtorch\u001b[39;00m\u001b[38;5;21;01m.\u001b[39;00m\u001b[38;5;21;01mutils\u001b[39;00m\u001b[38;5;21;01m.\u001b[39;00m\u001b[38;5;21;01m_ordered_set\u001b[39;00m \u001b[38;5;28;01mimport\u001b[39;00m OrderedSet\n\u001b[0;32m     73\u001b[0m \u001b[38;5;28;01mfrom\u001b[39;00m \u001b[38;5;21;01mtorch\u001b[39;00m\u001b[38;5;21;01m.\u001b[39;00m\u001b[38;5;21;01mutils\u001b[39;00m\u001b[38;5;21;01m.\u001b[39;00m\u001b[38;5;21;01m_python_dispatch\u001b[39;00m \u001b[38;5;28;01mimport\u001b[39;00m is_traceable_wrapper_subclass\n\u001b[1;32m---> 74\u001b[0m \u001b[38;5;28;01mfrom\u001b[39;00m \u001b[38;5;21;01mtorch\u001b[39;00m\u001b[38;5;21;01m.\u001b[39;00m\u001b[38;5;21;01mutils\u001b[39;00m\u001b[38;5;21;01m.\u001b[39;00m\u001b[38;5;21;01m_sympy\u001b[39;00m\u001b[38;5;21;01m.\u001b[39;00m\u001b[38;5;21;01mfunctions\u001b[39;00m \u001b[38;5;28;01mimport\u001b[39;00m (\n\u001b[0;32m     75\u001b[0m     Application,\n\u001b[0;32m     76\u001b[0m     CeilToInt,\n\u001b[0;32m     77\u001b[0m     CleanDiv,\n\u001b[0;32m     78\u001b[0m     FloorDiv,\n\u001b[0;32m     79\u001b[0m     FloorToInt,\n\u001b[0;32m     80\u001b[0m     IsNonOverlappingAndDenseIndicator,\n\u001b[0;32m     81\u001b[0m     Mod,\n\u001b[0;32m     82\u001b[0m     PythonMod,\n\u001b[0;32m     83\u001b[0m )\n\u001b[0;32m     84\u001b[0m \u001b[38;5;28;01mfrom\u001b[39;00m \u001b[38;5;21;01mtorch\u001b[39;00m\u001b[38;5;21;01m.\u001b[39;00m\u001b[38;5;21;01mutils\u001b[39;00m\u001b[38;5;21;01m.\u001b[39;00m\u001b[38;5;21;01m_sympy\u001b[39;00m\u001b[38;5;21;01m.\u001b[39;00m\u001b[38;5;21;01mnumbers\u001b[39;00m \u001b[38;5;28;01mimport\u001b[39;00m int_oo\n\u001b[0;32m     85\u001b[0m \u001b[38;5;28;01mfrom\u001b[39;00m \u001b[38;5;21;01mtorch\u001b[39;00m\u001b[38;5;21;01m.\u001b[39;00m\u001b[38;5;21;01mutils\u001b[39;00m\u001b[38;5;21;01m.\u001b[39;00m\u001b[38;5;21;01m_sympy\u001b[39;00m\u001b[38;5;21;01m.\u001b[39;00m\u001b[38;5;21;01mprinters\u001b[39;00m \u001b[38;5;28;01mimport\u001b[39;00m PythonPrinter\n",
      "File \u001b[1;32m~\\.conda\\envs\\demo3\\Lib\\site-packages\\torch\\utils\\_sympy\\functions.py:589\u001b[0m\n\u001b[0;32m    585\u001b[0m             \u001b[38;5;28;01mraise\u001b[39;00m \u001b[38;5;167;01mValueError\u001b[39;00m(\u001b[38;5;124m\"\u001b[39m\u001b[38;5;124mnegative shift count\u001b[39m\u001b[38;5;124m\"\u001b[39m)\n\u001b[0;32m    586\u001b[0m         \u001b[38;5;28;01mreturn\u001b[39;00m base \u001b[38;5;241m/\u001b[39m\u001b[38;5;241m/\u001b[39m \u001b[38;5;241m2\u001b[39m\u001b[38;5;241m*\u001b[39m\u001b[38;5;241m*\u001b[39mshift\n\u001b[1;32m--> 589\u001b[0m \u001b[38;5;28;01mclass\u001b[39;00m \u001b[38;5;21;01mMinMaxBase\u001b[39;00m(Expr, LatticeOp):  \u001b[38;5;66;03m# type: ignore[misc]\u001b[39;00m\n\u001b[0;32m    590\u001b[0m     \u001b[38;5;28;01mdef\u001b[39;00m \u001b[38;5;21m__new__\u001b[39m(\u001b[38;5;28mcls\u001b[39m, \u001b[38;5;241m*\u001b[39moriginal_args, \u001b[38;5;241m*\u001b[39m\u001b[38;5;241m*\u001b[39massumptions):\n\u001b[0;32m    591\u001b[0m         \u001b[38;5;28;01mfrom\u001b[39;00m \u001b[38;5;21;01msympy\u001b[39;00m\u001b[38;5;21;01m.\u001b[39;00m\u001b[38;5;21;01mcore\u001b[39;00m\u001b[38;5;21;01m.\u001b[39;00m\u001b[38;5;21;01mparameters\u001b[39;00m \u001b[38;5;28;01mimport\u001b[39;00m global_parameters\n",
      "File \u001b[1;32m~\\.conda\\envs\\demo3\\Lib\\site-packages\\torch\\utils\\_sympy\\functions.py:638\u001b[0m, in \u001b[0;36mMinMaxBase\u001b[1;34m()\u001b[0m\n\u001b[0;32m    632\u001b[0m     obj\u001b[38;5;241m.\u001b[39munique_summations_symbols \u001b[38;5;241m=\u001b[39m unique_summations_symbols\n\u001b[0;32m    633\u001b[0m     \u001b[38;5;28;01mreturn\u001b[39;00m obj\n\u001b[0;32m    635\u001b[0m \u001b[38;5;129m@classmethod\u001b[39m\n\u001b[0;32m    636\u001b[0m \u001b[38;5;28;01mdef\u001b[39;00m \u001b[38;5;21m_satisfy_unique_summations_symbols\u001b[39m(\n\u001b[0;32m    637\u001b[0m     \u001b[38;5;28mcls\u001b[39m, args\n\u001b[1;32m--> 638\u001b[0m ) \u001b[38;5;241m-\u001b[39m\u001b[38;5;241m>\u001b[39m Optional[\u001b[38;5;28mset\u001b[39m[sympy\u001b[38;5;241m.\u001b[39mcore\u001b[38;5;241m.\u001b[39msymbol\u001b[38;5;241m.\u001b[39mSymbol]]:\n\u001b[0;32m    639\u001b[0m \u001b[38;5;250m    \u001b[39m\u001b[38;5;124;03m\"\"\"\u001b[39;00m\n\u001b[0;32m    640\u001b[0m \u001b[38;5;124;03m    One common case in some models is building expressions of the form\u001b[39;00m\n\u001b[0;32m    641\u001b[0m \u001b[38;5;124;03m    max(max(max(a+b...), c+d), e+f) which is simplified to max(a+b, c+d, e+f, ...).\u001b[39;00m\n\u001b[1;32m   (...)\u001b[0m\n\u001b[0;32m    663\u001b[0m \u001b[38;5;124;03m    property. Otherwise, it returns a new set of unique symbols.\u001b[39;00m\n\u001b[0;32m    664\u001b[0m \u001b[38;5;124;03m    \"\"\"\u001b[39;00m\n\u001b[0;32m    665\u001b[0m     \u001b[38;5;28;01mif\u001b[39;00m \u001b[38;5;28mlen\u001b[39m(args) \u001b[38;5;241m!=\u001b[39m \u001b[38;5;241m2\u001b[39m:\n",
      "\u001b[1;31mAttributeError\u001b[0m: module 'sympy' has no attribute 'core'"
     ]
    }
   ],
   "source": [
    "import scanpy as sc\n",
    "import TOSICA\n",
    "import os\n",
    "os.environ[\"PYTORCH_SYMBOLIC_SHAPE_INFERENCE\"] = \"0\"\n",
    "\n",
    "# Step 1: Load the h_pancreas datasets\n",
    "# Replace the file paths with the actual paths to your datasets\n",
    "train_path = \"C:/Users/gaiacronus/Downloads/work/combine/adata/hPancreas_train_adata.h5ad\"  # Training dataset\n",
    "test_path = \"C:/Users/gaiacronus/Downloads/work/combine/adata/hPancreas_test_adata.h5ad\"   # Testing dataset\n",
    "\n",
    "# Load the datasets as AnnData objects\n",
    "train_adata = sc.read_h5ad(train_path)\n",
    "test_adata = sc.read_h5ad(test_path)\n",
    "\n",
    "# Step 2: Preprocess the datasets\n",
    "# Align the gene names in both datasets (ensure they have the same genes in the same order)\n",
    "common_genes = train_adata.var_names.intersection(test_adata.var_names)\n",
    "train_adata = train_adata[:, common_genes]\n",
    "test_adata = test_adata[:, common_genes]\n",
    "\n",
    "# Optional: Normalize the data (if not already normalized)\n",
    "sc.pp.normalize_total(train_adata, target_sum=1e4)\n",
    "sc.pp.log1p(train_adata)\n",
    "\n",
    "sc.pp.normalize_total(test_adata, target_sum=1e4)\n",
    "sc.pp.log1p(test_adata)\n",
    "ref_adata=train_adata\n",
    "query_adata=test_adata\n",
    "# Step 3: Train the TOSICA model\n",
    "# Define the label key for cell type annotation in the training dataset\n",
    "label_key = \"Celltype2\"  # Replace with the actual key for cell type labels in your data\n",
    "gmt_path = \"C:/Users/gaiacronus/Downloads/work/combine/TOSICA/resources/immune.gmt\"  # Path to the gene set file (required by TOSICA)\n",
    "project_name = \"tostry\"    # Name of the project directory\n",
    "\n",
    "# Train the model\n",
    "TOSICA.train(\n",
    "    ref_adata,\n",
    "    gmt_path=gmt_path,\n",
    "    project=project_name,\n",
    "    epochs=3,\n",
    "    label_name=label_key\n",
    ")\n",
    "\n",
    "# Step 4: Predict cell types in the test dataset\n",
    "# Path to the trained model weights (saved in the project directory during training)\n",
    "model_weight_path = f\"{project_name}/model_weight.h5\"\n",
    "\n",
    "# Predict cell types\n",
    "predicted_adata = TOSICA.pre(\n",
    "    query_adata,\n",
    "    model_weight_path=model_weight_path,\n",
    "    project=project_name\n",
    ")\n",
    "\n",
    "# Step 5: Inspect the predictions\n",
    "# Predicted cell types and probabilities are added to the `obs` of the AnnData object\n",
    "print(predicted_adata.obs.head())  # Check the predicted labels and probabilities\n",
    "\n",
    "# Save the results for further analysis\n",
    "predicted_adata.write(\"h_pancreas_predicted.h5ad\")\n"
   ]
  },
  {
   "cell_type": "code",
   "execution_count": null,
   "id": "247c57fd-6952-4fce-8ccb-6acabb40e061",
   "metadata": {},
   "outputs": [],
   "source": []
  },
  {
   "cell_type": "code",
   "execution_count": null,
   "id": "57a7bf84-2659-4ad0-9d52-89770067d064",
   "metadata": {},
   "outputs": [],
   "source": []
  }
 ],
 "metadata": {
  "kernelspec": {
   "display_name": "Python 3 (ipykernel)",
   "language": "python",
   "name": "python3"
  },
  "language_info": {
   "codemirror_mode": {
    "name": "ipython",
    "version": 3
   },
   "file_extension": ".py",
   "mimetype": "text/x-python",
   "name": "python",
   "nbconvert_exporter": "python",
   "pygments_lexer": "ipython3",
   "version": "3.12.8"
  }
 },
 "nbformat": 4,
 "nbformat_minor": 5
}
